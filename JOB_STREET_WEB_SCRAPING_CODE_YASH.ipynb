{
 "cells": [
  {
   "cell_type": "code",
   "execution_count": 1,
   "metadata": {},
   "outputs": [],
   "source": [
    "# Web Scraping For Job Street Malaysia\n",
    "import csv\n",
    "from datetime import datetime\n",
    "import requests\n",
    "from bs4 import BeautifulSoup"
   ]
  },
  {
   "cell_type": "code",
   "execution_count": 2,
   "metadata": {},
   "outputs": [],
   "source": [
    "# generating url for Job position and location\n",
    "def get_url(position,location):\n",
    "    position = position.replace(' ','-')\n",
    "    location = location.replace(' ','-')\n",
    "    template = 'https://www.jobstreet.com.my/en/job-search/{}-jobs-in-{}/'\n",
    "    url = template.format(position,location)\n",
    "    return url"
   ]
  },
  {
   "cell_type": "code",
   "execution_count": 3,
   "metadata": {},
   "outputs": [
    {
     "name": "stdout",
     "output_type": "stream",
     "text": [
      "https://www.jobstreet.com.my/en/job-search/Python-Developer-jobs-in-Kuala-Lampur/\n"
     ]
    }
   ],
   "source": [
    "url = get_url('Python Developer','Kuala Lampur')\n",
    "print(url)"
   ]
  },
  {
   "cell_type": "code",
   "execution_count": 4,
   "metadata": {},
   "outputs": [
    {
     "data": {
      "text/plain": [
       "<Response [200]>"
      ]
     },
     "execution_count": 4,
     "metadata": {},
     "output_type": "execute_result"
    }
   ],
   "source": [
    "# check response\n",
    "response = requests.get(url)\n",
    "response"
   ]
  },
  {
   "cell_type": "code",
   "execution_count": 5,
   "metadata": {},
   "outputs": [],
   "source": [
    "# remove the comment to see page code\n",
    "# response.text"
   ]
  },
  {
   "cell_type": "code",
   "execution_count": 6,
   "metadata": {},
   "outputs": [],
   "source": [
    "# creating BeautifulSoup Object\n",
    "\n",
    "soup = BeautifulSoup(response.text,'html.parser')"
   ]
  },
  {
   "cell_type": "code",
   "execution_count": 7,
   "metadata": {},
   "outputs": [
    {
     "name": "stdout",
     "output_type": "stream",
     "text": [
      "30\n"
     ]
    }
   ],
   "source": [
    "# Here we are searching for div tags having job information \n",
    "cards = soup.find_all('div', 'FYwKg _17IyL_0 _2-ij9_0 _3Vcu7_0 MtsXR_0')\n",
    "print(len(cards))"
   ]
  },
  {
   "cell_type": "code",
   "execution_count": 8,
   "metadata": {},
   "outputs": [
    {
     "name": "stdout",
     "output_type": "stream",
     "text": [
      "<div class=\"FYwKg _17IyL_0 _2-ij9_0 _3Vcu7_0 MtsXR_0\"><div class=\"\"><article class=\"FYwKg _3j_fQ _2MJ7O_0 _20Cd9_0 _2Nj6k _58veS_0\" data-automation=\"job-card-0\"><div class=\"FYwKg _20Cd9_0 _1GAuD _3MPd_ _3ftyQ _1lyEa\"><div class=\"FYwKg _1GAuD _27u74_0\"><div class=\"FYwKg _1GAuD fB92N_0 _1pAdR_0 FLByR_0 _2QIfI_0 _3ftyQ _1lyEa _1N8Dy\"><div class=\"FYwKg\"><div class=\"FYwKg _36UVG_0\"><h1 class=\"FYwKg _2Bz3E C6ZIU_0 _6ufcS_0 _2DNlq_0 sQuda_0\"><a class=\"DvvsL_0 _1p9OP\" href=\"/en/job/python-developer-4578618?jobId=jobstreet-my-job-4578618&amp;sectionRank=1&amp;token=0~51789ecc-21f8-4a30-b16a-ee81b41f9b17&amp;fr=SRP%20Job%20Listing\" rel=\"nofollow noopener noreferrer\" target=\"_top\"><div class=\"FYwKg _2j8fZ_0 sIMFL_0 _1JtWu_0\">Python Developer</div></a></h1><span class=\"FYwKg _2Bz3E C6ZIU_0 _6ufcS_0 _2DNlq_0 _29m7__0\">Hannah Blossom Sdn Bhd</span></div><span class=\"FYwKg _2Bz3E C6ZIU_0 _1_nER_0 _2DNlq_0 sQuda_0\"><span class=\"FYwKg _3MPd_ _2Bz3E And8z\">Selangor</span></span><span class=\"FYwKg _2Bz3E C6ZIU_0 _1_nER_0 _2DNlq_0 sQuda_0\">MYR 3K - 6K monthly</span><div class=\"FYwKg _1WMOl_0 _2Bz3E\" data-automation=\"job-card-selling-points\"><ul class=\"FYwKg _302h6 d7v3r _2uGS9_0\"><li class=\"FYwKg zoxBO_0\"><div class=\"FYwKg _3ftyQ\"><div class=\"FYwKg _2Bz3E C6ZIU_0 _1_nER_0 _2DNlq_0 _29m7__0 _1PM5y_0\"><div aria-hidden=\"true\" class=\"FYwKg _3ftyQ _3O7rA mY9oq _36CLf_0\"><div class=\"FYwKg _1A6vC _25blN _2FgpS\"></div></div></div><div class=\"FYwKg _3VCZm _1uk_1 _3RqUb_0\"><span class=\"FYwKg _2Bz3E C6ZIU_0 _1_nER_0 _2DNlq_0 _29m7__0 _1PM5y_0\">Office at Shopping Complex</span></div></div></li><li class=\"FYwKg zoxBO_0\"><div class=\"FYwKg _3ftyQ\"><div class=\"FYwKg _2Bz3E C6ZIU_0 _1_nER_0 _2DNlq_0 _29m7__0 _1PM5y_0\"><div aria-hidden=\"true\" class=\"FYwKg _3ftyQ _3O7rA mY9oq _36CLf_0\"><div class=\"FYwKg _1A6vC _25blN _2FgpS\"></div></div></div><div class=\"FYwKg _3VCZm _1uk_1 _3RqUb_0\"><span class=\"FYwKg _2Bz3E C6ZIU_0 _1_nER_0 _2DNlq_0 _29m7__0 _1PM5y_0\">Career development and opportunities</span></div></div></li><li class=\"FYwKg zoxBO_0\"><div class=\"FYwKg _3ftyQ\"><div class=\"FYwKg _2Bz3E C6ZIU_0 _1_nER_0 _2DNlq_0 _29m7__0 _1PM5y_0\"><div aria-hidden=\"true\" class=\"FYwKg _3ftyQ _3O7rA mY9oq _36CLf_0\"><div class=\"FYwKg _1A6vC _25blN _2FgpS\"></div></div></div><div class=\"FYwKg _3VCZm _1uk_1 _3RqUb_0\"><span class=\"FYwKg _2Bz3E C6ZIU_0 _1_nER_0 _2DNlq_0 _29m7__0 _1PM5y_0\">Networking</span></div></div></li></ul></div></div><div class=\"FYwKg _3O7Hk_0 _3ftyQ _3O7rA _1N8Dy\"><time class=\"FYwKg _2Bz3E\" datetime=\"2021-06-27T16:00:00.000Z\"><span class=\"FYwKg _2Bz3E C6ZIU_0 _1_nER_0 _3KSG8_0 _29m7__0\">2d ago</span></time><div class=\"FYwKg _2DGv8 _2rXUd_0\"><button aria-expanded=\"false\" aria-label=\"Toggle job shelf links\" class=\"FYwKg _2CaaD _1A6vC _2rhiT_0 Im1ty_0 _2Nj6k _3ftyQ _3O7rA _3i7ia _1N44__0\"><span class=\"FYwKg _2Bz3E C6ZIU_0 _1_nER_0 _3KSG8_0 _29m7__0 _1PM5y_0\"><svg aria-hidden=\"true\" class=\"FYwKg _2Cp5K gHOxU eO0my _3KSG8_0 _1HqaG _2ZfBL pgLNd\" fill=\"currentColor\" focusable=\"false\" height=\"16\" viewbox=\"0 0 24 24\" width=\"16\" xmlns=\"http://www.w3.org/2000/svg\"><path d=\"M20.7 7.3c-.4-.4-1-.4-1.4 0L12 14.6 4.7 7.3c-.4-.4-1-.4-1.4 0s-.4 1 0 1.4l8 8c.2.2.5.3.7.3s.5-.1.7-.3l8-8c.4-.4.4-1 0-1.4z\"></path></svg></span></button></div></div></div><div class=\"FYwKg _2DGv8 _2rXUd_0\"><div aria-hidden=\"true\" class=\"FYwKg _3TDN__0\"><div class=\"FYwKg _6Gmbl_0 _3j1Zv_0 FLByR_0 _2QIfI_0 _2uf_M_0\"><dl class=\"FYwKg _2Bz3E C6ZIU_0 _1_nER_0 _3KSG8_0 _29m7__0\"><dt class=\"FYwKg _1fD1J_0\" style=\"color:#1e222b\"><strong class=\"sQuda_0\">Job Specializations</strong></dt><dd class=\"FYwKg PrHFr\"><a class=\"_27Shq_0 qbDva _2CELK_0 FYwKg _2k9O2 _2Nj6k\" href=\"/en/job-search/python-developer-jobs/?specialization=508\" rel=\"nofollow\" title=\"Limit results to Computer/Information Technology \">Computer/Information Technology</a></dd> / <dd class=\"FYwKg PrHFr\"><a class=\"_27Shq_0 qbDva _2CELK_0 FYwKg _2k9O2 _2Nj6k\" href=\"/en/job-search/python-developer-jobs/?specialization=191\" rel=\"nofollow\" title=\"Limit results to IT-Software in Computer/Information Technology\">IT-Software</a></dd><div class=\"FYwKg _6Gmbl_0 _3j1Zv_0\"><div class=\"FYwKg _2Cp5K\"><div class=\"FYwKg _3VCZm _3ra6Y _1vY2t_0 TfmPI_0\"></div></div></div><dt class=\"FYwKg _1fD1J_0\" style=\"color:#1e222b\"><strong class=\"sQuda_0\">Job Type</strong></dt><dd class=\"FYwKg PrHFr\"><a class=\"_27Shq_0 qbDva _2CELK_0 FYwKg _2k9O2 _2Nj6k\" href=\"/en/job-search/python-developer-jobs/?job-type=full_time\" title=\"Limit results to Full-Time \">Full-Time</a></dd></dl></div></div></div></div></div></article></div></div>\n"
     ]
    }
   ],
   "source": [
    "# printing first card\n",
    "print(cards[0])"
   ]
  },
  {
   "cell_type": "code",
   "execution_count": 9,
   "metadata": {},
   "outputs": [],
   "source": [
    "# let's first prototype the model with a single record\n",
    "\n",
    "card = cards[0]"
   ]
  },
  {
   "cell_type": "code",
   "execution_count": 10,
   "metadata": {},
   "outputs": [
    {
     "name": "stdout",
     "output_type": "stream",
     "text": [
      "Python Developer\n"
     ]
    }
   ],
   "source": [
    "# fetching the job Name\n",
    "job_name = card.find('div','FYwKg _2j8fZ_0 sIMFL_0 _1JtWu_0').text.strip()\n",
    "print(job_name)"
   ]
  },
  {
   "cell_type": "code",
   "execution_count": 11,
   "metadata": {},
   "outputs": [
    {
     "name": "stdout",
     "output_type": "stream",
     "text": [
      "https://www.jobstreet.com.my/en/job/python-developer-4578618?jobId=jobstreet-my-job-4578618&sectionRank=1&token=0~51789ecc-21f8-4a30-b16a-ee81b41f9b17&fr=SRP%20Job%20Listing\n"
     ]
    }
   ],
   "source": [
    "# fetching job_url\n",
    "\n",
    "anchor_tag = card.a\n",
    "\n",
    "job_url = 'https://www.jobstreet.com.my'+anchor_tag.get('href')\n",
    "print(job_url)"
   ]
  },
  {
   "cell_type": "code",
   "execution_count": 12,
   "metadata": {},
   "outputs": [
    {
     "name": "stdout",
     "output_type": "stream",
     "text": [
      "Hannah Blossom Sdn Bhd\n"
     ]
    }
   ],
   "source": [
    "# fetching company_name\n",
    "\n",
    "company_name = card.find('span','FYwKg _2Bz3E C6ZIU_0 _6ufcS_0 _2DNlq_0 _29m7__0').text.strip()\n",
    "print(company_name)"
   ]
  },
  {
   "cell_type": "code",
   "execution_count": 13,
   "metadata": {},
   "outputs": [
    {
     "name": "stdout",
     "output_type": "stream",
     "text": [
      "Selangor\n"
     ]
    }
   ],
   "source": [
    "# fetching job_location\n",
    "\n",
    "job_location = card.find('span','FYwKg _3MPd_ _2Bz3E And8z').text.strip()\n",
    "print(job_location)"
   ]
  },
  {
   "cell_type": "code",
   "execution_count": 14,
   "metadata": {},
   "outputs": [
    {
     "data": {
      "text/plain": [
       "<ul class=\"FYwKg _302h6 d7v3r _2uGS9_0\"><li class=\"FYwKg zoxBO_0\"><div class=\"FYwKg _3ftyQ\"><div class=\"FYwKg _2Bz3E C6ZIU_0 _1_nER_0 _2DNlq_0 _29m7__0 _1PM5y_0\"><div aria-hidden=\"true\" class=\"FYwKg _3ftyQ _3O7rA mY9oq _36CLf_0\"><div class=\"FYwKg _1A6vC _25blN _2FgpS\"></div></div></div><div class=\"FYwKg _3VCZm _1uk_1 _3RqUb_0\"><span class=\"FYwKg _2Bz3E C6ZIU_0 _1_nER_0 _2DNlq_0 _29m7__0 _1PM5y_0\">Office at Shopping Complex</span></div></div></li><li class=\"FYwKg zoxBO_0\"><div class=\"FYwKg _3ftyQ\"><div class=\"FYwKg _2Bz3E C6ZIU_0 _1_nER_0 _2DNlq_0 _29m7__0 _1PM5y_0\"><div aria-hidden=\"true\" class=\"FYwKg _3ftyQ _3O7rA mY9oq _36CLf_0\"><div class=\"FYwKg _1A6vC _25blN _2FgpS\"></div></div></div><div class=\"FYwKg _3VCZm _1uk_1 _3RqUb_0\"><span class=\"FYwKg _2Bz3E C6ZIU_0 _1_nER_0 _2DNlq_0 _29m7__0 _1PM5y_0\">Career development and opportunities</span></div></div></li><li class=\"FYwKg zoxBO_0\"><div class=\"FYwKg _3ftyQ\"><div class=\"FYwKg _2Bz3E C6ZIU_0 _1_nER_0 _2DNlq_0 _29m7__0 _1PM5y_0\"><div aria-hidden=\"true\" class=\"FYwKg _3ftyQ _3O7rA mY9oq _36CLf_0\"><div class=\"FYwKg _1A6vC _25blN _2FgpS\"></div></div></div><div class=\"FYwKg _3VCZm _1uk_1 _3RqUb_0\"><span class=\"FYwKg _2Bz3E C6ZIU_0 _1_nER_0 _2DNlq_0 _29m7__0 _1PM5y_0\">Networking</span></div></div></li></ul>"
      ]
     },
     "execution_count": 14,
     "metadata": {},
     "output_type": "execute_result"
    }
   ],
   "source": [
    "# fetching job_summary\n",
    "\n",
    "job_summary = card.find('ul','FYwKg _302h6 d7v3r _2uGS9_0')\n",
    "job_summary"
   ]
  },
  {
   "cell_type": "code",
   "execution_count": 15,
   "metadata": {},
   "outputs": [],
   "source": [
    "summary = ''\n",
    "tag_str = ''\n",
    "\n",
    "# fetching the LI tag text and saving it in summary text\n",
    "# here in for loop we are separating the job summaries using comma\n",
    "\n",
    "\n",
    "for tag in job_summary(\"li\"):\n",
    "    tag_str = tag.text\n",
    "    summary += tag_str + ','"
   ]
  },
  {
   "cell_type": "code",
   "execution_count": 16,
   "metadata": {},
   "outputs": [
    {
     "name": "stdout",
     "output_type": "stream",
     "text": [
      "Office at Shopping Complex,Career development and opportunities,Networking,\n"
     ]
    }
   ],
   "source": [
    "print(summary)"
   ]
  },
  {
   "cell_type": "code",
   "execution_count": 17,
   "metadata": {},
   "outputs": [
    {
     "name": "stdout",
     "output_type": "stream",
     "text": [
      "Office at Shopping Complex,Career development and opportunities,Networking\n"
     ]
    }
   ],
   "source": [
    "# removing the last comma from job summary\n",
    "# rstrip is used to remove the character at the end of a string\n",
    "summary = summary.rstrip(',')\n",
    "print(summary)"
   ]
  },
  {
   "cell_type": "code",
   "execution_count": 18,
   "metadata": {},
   "outputs": [],
   "source": [
    "# putting job summary in try except block\n",
    "# coz in some jobs , summary is not mentioned\n",
    "\n",
    "try:\n",
    "    summary = ''\n",
    "    tag_str = ''\n",
    "    job_summary = card.find('ul','FYwKg _302h6 d7v3r _2uGS9_0')\n",
    "    for tag in job_summary(\"li\"):\n",
    "        tag_str = tag.text\n",
    "        summary += tag_str + ','\n",
    "    summary = summary.rstrip(',')\n",
    "except AttributeError:\n",
    "    summary = ''"
   ]
  },
  {
   "cell_type": "code",
   "execution_count": 19,
   "metadata": {},
   "outputs": [
    {
     "name": "stdout",
     "output_type": "stream",
     "text": [
      "Office at Shopping Complex,Career development and opportunities,Networking\n"
     ]
    }
   ],
   "source": [
    "print(summary)"
   ]
  },
  {
   "cell_type": "code",
   "execution_count": 25,
   "metadata": {},
   "outputs": [
    {
     "name": "stdout",
     "output_type": "stream",
     "text": [
      "[<span class=\"FYwKg _2Bz3E C6ZIU_0 _1_nER_0 _2DNlq_0 sQuda_0\"><span class=\"FYwKg _3MPd_ _2Bz3E And8z\">Selangor</span></span>, <span class=\"FYwKg _2Bz3E C6ZIU_0 _1_nER_0 _2DNlq_0 sQuda_0\">MYR 3K - 6K monthly</span>]\n",
      "2\n",
      "MYR 3K - 6K monthly\n"
     ]
    }
   ],
   "source": [
    "# fetching job salary information\n",
    "job_salary = card.find_all('span', 'FYwKg _2Bz3E C6ZIU_0 _1_nER_0 _2DNlq_0 sQuda_0')\n",
    "print(job_salary)\n",
    "\n",
    "# Here you can see that there are 2 span tags having the same class name [FYwKg _2Bz3E C6ZIU_0 _1_nER_0 _2DNlq_0 sQuda_0]\n",
    "\n",
    "print(len(job_salary))\n",
    "\n",
    "# In order to fetch the second span information you can run the below script\n",
    "\n",
    "job_salary = job_salary[1]\n",
    "salary = job_salary.text.strip()\n",
    "print(salary)"
   ]
  },
  {
   "cell_type": "code",
   "execution_count": 26,
   "metadata": {},
   "outputs": [],
   "source": [
    "# fetching job salary information using Try Except coz in some jobs salaries is not been mentioned\n",
    "job_salary = card.find_all('span', 'FYwKg _2Bz3E C6ZIU_0 _1_nER_0 _2DNlq_0 sQuda_0')\n",
    "try:\n",
    "    if len(job_salary) >= 2:\n",
    "        job_salary = job_salary[1]\n",
    "        salary = job_salary.text.strip()\n",
    "    else:\n",
    "        salary = ''\n",
    "except IndexError:\n",
    "    salary = ''"
   ]
  },
  {
   "cell_type": "code",
   "execution_count": 27,
   "metadata": {},
   "outputs": [
    {
     "name": "stdout",
     "output_type": "stream",
     "text": [
      "MYR 3K - 6K monthly\n"
     ]
    }
   ],
   "source": [
    "print(salary)"
   ]
  },
  {
   "cell_type": "code",
   "execution_count": 28,
   "metadata": {},
   "outputs": [
    {
     "name": "stdout",
     "output_type": "stream",
     "text": [
      "2021-06-27T16:00:00.000Z\n"
     ]
    }
   ],
   "source": [
    "# feching job date\n",
    "\n",
    "time_tag = card.time\n",
    "post_date = time_tag.get('datetime')\n",
    "\n",
    "print(post_date)"
   ]
  },
  {
   "cell_type": "code",
   "execution_count": 29,
   "metadata": {},
   "outputs": [
    {
     "name": "stdout",
     "output_type": "stream",
     "text": [
      "2021-06-27\n"
     ]
    }
   ],
   "source": [
    "# from date removing everything after T\n",
    "# here we want only 2021-06-27 \n",
    "# USE str.split() TO REMOVE EVERYTHING AFTER A CHARACTER IN A STRING\n",
    "# Syntax : str.split(sep, maxsplit) \n",
    "# separator --> Specifies the separator to use when splitting the string. Here we are using alphabet 'T'\n",
    "# maxsplit --> Specifies how many splits to do\n",
    "# Read More About Split : https://www.w3schools.com/python/ref_string_split.asp\n",
    "\n",
    "post_date = post_date.split(\"T\", 1)\n",
    "post_date = post_date[0]\n",
    "print(post_date)"
   ]
  },
  {
   "cell_type": "code",
   "execution_count": 30,
   "metadata": {},
   "outputs": [
    {
     "name": "stdout",
     "output_type": "stream",
     "text": [
      "2021-06-30\n"
     ]
    }
   ],
   "source": [
    "today = datetime.today().strftime('%Y-%m-%d')\n",
    "print(today)"
   ]
  },
  {
   "cell_type": "code",
   "execution_count": 31,
   "metadata": {},
   "outputs": [],
   "source": [
    "# Combining Everything Into A Function\n",
    "# Fetching The Job Information From Every Card\n",
    "\n",
    "def get_jobs(card):\n",
    "    job_name = card.find('div','FYwKg _2j8fZ_0 sIMFL_0 _1JtWu_0').text.strip()\n",
    "    job_url = 'https://www.jobstreet.com.my'+anchor_tag.get('href')\n",
    "    company_name = card.find('span','FYwKg _2Bz3E C6ZIU_0 _6ufcS_0 _2DNlq_0 _29m7__0').text.strip()\n",
    "    job_location = card.find('span','FYwKg _3MPd_ _2Bz3E And8z').text.strip()\n",
    "    # fetching job summary\n",
    "    try:\n",
    "        summary = ''\n",
    "        tag_str = ''\n",
    "        job_summary = card.find('ul','FYwKg _302h6 d7v3r _2uGS9_0')\n",
    "        for tag in job_summary(\"li\"):\n",
    "            tag_str = tag.text\n",
    "            summary += tag_str + ','\n",
    "            summary = summary.rstrip(',')\n",
    "    except AttributeError:\n",
    "        summary = ''\n",
    "    # fetching job salary\n",
    "    job_salary = card.find_all('span', 'FYwKg _2Bz3E C6ZIU_0 _1_nER_0 _2DNlq_0 sQuda_0')\n",
    "    try:\n",
    "        if len(job_salary)>=2:\n",
    "            job_salary = job_salary[1]\n",
    "            salary = job_salary.text.strip()\n",
    "        else:\n",
    "            salary = ''\n",
    "    except IndexError:\n",
    "        salary = ''\n",
    "    post_date = time_tag.get('datetime')\n",
    "    post_date = post_date.split(\"T\", 1)\n",
    "    post_date = post_date[0]\n",
    "    today = datetime.today().strftime('%Y-%m-%d')\n",
    "    \n",
    "    job_info = (job_name,job_url,company_name,job_location,summary,salary,post_date,today)\n",
    "    \n",
    "    return job_info\n"
   ]
  },
  {
   "cell_type": "code",
   "execution_count": 32,
   "metadata": {},
   "outputs": [],
   "source": [
    "records = []\n",
    "\n",
    "for everyCard in cards:\n",
    "    jobDetails = get_jobs(everyCard)\n",
    "    records.append(jobDetails)"
   ]
  },
  {
   "cell_type": "code",
   "execution_count": 33,
   "metadata": {},
   "outputs": [
    {
     "name": "stdout",
     "output_type": "stream",
     "text": [
      "30\n"
     ]
    }
   ],
   "source": [
    "print(len(records))\n",
    "# Here we got 30 Recent jobs"
   ]
  },
  {
   "cell_type": "code",
   "execution_count": 34,
   "metadata": {},
   "outputs": [
    {
     "name": "stdout",
     "output_type": "stream",
     "text": [
      "('Python Developer', 'https://www.jobstreet.com.my/en/job/python-developer-4578618?jobId=jobstreet-my-job-4578618&sectionRank=1&token=0~51789ecc-21f8-4a30-b16a-ee81b41f9b17&fr=SRP%20Job%20Listing', 'Hannah Blossom Sdn Bhd', 'Selangor', 'Office at Shopping ComplexCareer development and opportunitiesNetworking', 'MYR\\xa03K - 6K monthly', '2021-06-27', '2021-06-30')\n"
     ]
    }
   ],
   "source": [
    "print(records[0])"
   ]
  },
  {
   "cell_type": "code",
   "execution_count": 35,
   "metadata": {},
   "outputs": [
    {
     "name": "stdout",
     "output_type": "stream",
     "text": [
      "('Python Automation Test Developer', 'https://www.jobstreet.com.my/en/job/python-developer-4578618?jobId=jobstreet-my-job-4578618&sectionRank=1&token=0~51789ecc-21f8-4a30-b16a-ee81b41f9b17&fr=SRP%20Job%20Listing', 'UST Global (M) Sdn Bhd', 'Cyberjaya', '', 'MYR\\xa07K - 12K monthly', '2021-06-27', '2021-06-30')\n"
     ]
    }
   ],
   "source": [
    "print(records[1])"
   ]
  },
  {
   "cell_type": "code",
   "execution_count": 36,
   "metadata": {},
   "outputs": [
    {
     "name": "stdout",
     "output_type": "stream",
     "text": [
      "('Django Python Developer', 'https://www.jobstreet.com.my/en/job/python-developer-4578618?jobId=jobstreet-my-job-4578618&sectionRank=1&token=0~51789ecc-21f8-4a30-b16a-ee81b41f9b17&fr=SRP%20Job%20Listing', 'ONAPP SDN BHD', 'Petaling Jaya', 'flexible working hours and medical', 'MYR\\xa03K - 6K monthly', '2021-06-27', '2021-06-30')\n"
     ]
    }
   ],
   "source": [
    "print(records[2])"
   ]
  },
  {
   "cell_type": "code",
   "execution_count": 40,
   "metadata": {},
   "outputs": [],
   "source": [
    "# Putting It All Together\n",
    "\n",
    "import csv\n",
    "from datetime import datetime\n",
    "import requests\n",
    "from bs4 import BeautifulSoup\n",
    "import pandas as pd\n",
    "\n",
    "def get_url(position,location):\n",
    "    position = position.replace(' ','-')\n",
    "    location = location.replace(' ','-')\n",
    "    template = 'https://www.jobstreet.com.my/en/job-search/{}-jobs-in-{}/'\n",
    "    url = template.format(position,location)\n",
    "    return url\n",
    "\n",
    "\n",
    "def get_jobs(card):\n",
    "    job_name = card.find('div','FYwKg _2j8fZ_0 sIMFL_0 _1JtWu_0').text.strip()\n",
    "    job_url = 'https://www.jobstreet.com.my'+anchor_tag.get('href')\n",
    "    company_name = card.find('span','FYwKg _2Bz3E C6ZIU_0 _6ufcS_0 _2DNlq_0 _29m7__0').text.strip()\n",
    "    job_location = card.find('span','FYwKg _3MPd_ _2Bz3E And8z').text.strip()\n",
    "    # fetching job summary\n",
    "    try:\n",
    "        summary = ''\n",
    "        tag_str = ''\n",
    "        job_summary = card.find('ul','FYwKg _302h6 d7v3r _2uGS9_0')\n",
    "        for tag in job_summary(\"li\"):\n",
    "            tag_str = tag.text\n",
    "            summary += tag_str + ','\n",
    "            summary = summary.rstrip(',')\n",
    "    except AttributeError:\n",
    "        summary = ''\n",
    "    # fetching job salary\n",
    "    job_salary = card.find_all('span', 'FYwKg _2Bz3E C6ZIU_0 _1_nER_0 _2DNlq_0 sQuda_0')\n",
    "    try:\n",
    "        if len(job_salary)>=2:\n",
    "            job_salary = job_salary[1]\n",
    "            salary = job_salary.text.strip()\n",
    "        else:\n",
    "            salary = ''\n",
    "    except IndexError:\n",
    "        salary = ''\n",
    "    post_date = time_tag.get('datetime')\n",
    "    post_date = post_date.split(\"T\", 1)\n",
    "    post_date = post_date[0]\n",
    "    today = datetime.today().strftime('%Y-%m-%d')\n",
    "    \n",
    "    job_info = (job_name,job_url,company_name,job_location,summary,salary,post_date,today)\n",
    "    \n",
    "    return job_info\n",
    "\n",
    "\n",
    "def main(position,location):\n",
    "    records = []\n",
    "    url = get_url(position,location)\n",
    "    \n",
    "    for everyCard in cards:\n",
    "        jobDetails = get_jobs(everyCard)\n",
    "        records.append(jobDetails)\n",
    "        \n",
    "    # Here We Are Using Pandas To Save Jobs In A CSV File\n",
    "        \n",
    "    col = ['Job_Name','Job_URL','Company_Name','Job_Location','Job_Summary','Job_Salary','Post_Date','Today']\n",
    "        \n",
    "    data = pd.DataFrame(records,columns=col)\n",
    "\n",
    "    data.to_csv('D:\\\\JobStreet_Data.csv', encoding='utf-8')\n",
    "    "
   ]
  },
  {
   "cell_type": "code",
   "execution_count": 41,
   "metadata": {},
   "outputs": [],
   "source": [
    "main('Python Developer','Selangor')"
   ]
  }
 ],
 "metadata": {
  "kernelspec": {
   "display_name": "Python 3",
   "language": "python",
   "name": "python3"
  },
  "language_info": {
   "codemirror_mode": {
    "name": "ipython",
    "version": 3
   },
   "file_extension": ".py",
   "mimetype": "text/x-python",
   "name": "python",
   "nbconvert_exporter": "python",
   "pygments_lexer": "ipython3",
   "version": "3.8.3"
  }
 },
 "nbformat": 4,
 "nbformat_minor": 4
}
