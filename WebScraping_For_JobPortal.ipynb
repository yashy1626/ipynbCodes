{
 "cells": [
  {
   "cell_type": "code",
   "execution_count": 1,
   "metadata": {},
   "outputs": [],
   "source": [
    "# Web Scraping For Job Portal\n",
    "import csv\n",
    "from datetime import datetime\n",
    "import requests\n",
    "from bs4 import BeautifulSoup"
   ]
  },
  {
   "cell_type": "code",
   "execution_count": 2,
   "metadata": {},
   "outputs": [],
   "source": [
    "def get_url(position,location):\n",
    "    position = position.replace(' ','+')\n",
    "    location = location.replace(' ','+')\n",
    "    template = 'https://in.indeed.com/jobs?q={}&l={}'\n",
    "    url = template.format(position,location)\n",
    "    return url"
   ]
  },
  {
   "cell_type": "code",
   "execution_count": 3,
   "metadata": {},
   "outputs": [
    {
     "name": "stdout",
     "output_type": "stream",
     "text": [
      "https://in.indeed.com/jobs?q=Python+Developer&l=Noida,Uttar+Pradesh\n"
     ]
    }
   ],
   "source": [
    "url = get_url('Python Developer','Noida,Uttar Pradesh')\n",
    "print(url)"
   ]
  },
  {
   "cell_type": "code",
   "execution_count": 4,
   "metadata": {},
   "outputs": [],
   "source": [
    "response = requests.get(url)"
   ]
  },
  {
   "cell_type": "code",
   "execution_count": 5,
   "metadata": {},
   "outputs": [
    {
     "data": {
      "text/plain": [
       "<Response [200]>"
      ]
     },
     "execution_count": 5,
     "metadata": {},
     "output_type": "execute_result"
    }
   ],
   "source": [
    "response"
   ]
  },
  {
   "cell_type": "code",
   "execution_count": 6,
   "metadata": {},
   "outputs": [],
   "source": [
    "# response.text"
   ]
  },
  {
   "cell_type": "code",
   "execution_count": 7,
   "metadata": {},
   "outputs": [],
   "source": [
    "soup = BeautifulSoup(response.text,'html.parser')"
   ]
  },
  {
   "cell_type": "code",
   "execution_count": 8,
   "metadata": {},
   "outputs": [
    {
     "name": "stdout",
     "output_type": "stream",
     "text": [
      "15\n"
     ]
    }
   ],
   "source": [
    "# Here we are searching for all table tags having jobCard_mainContent class name \n",
    "cards = soup.find_all('div', 'jobsearch-SerpJobCard')\n",
    "print(len(cards))"
   ]
  },
  {
   "cell_type": "code",
   "execution_count": 9,
   "metadata": {},
   "outputs": [
    {
     "name": "stdout",
     "output_type": "stream",
     "text": [
      "<div class=\"jobsearch-SerpJobCard unifiedRow row result\" data-jk=\"4022bff9b16d6005\" data-tn-component=\"organicJob\" id=\"p_4022bff9b16d6005\">\n",
      "<h2 class=\"title\">\n",
      "<a class=\"jobtitle turnstileLink\" data-tn-element=\"jobTitle\" href=\"/company/Fluper-Limited/jobs/Python-Django-Developer-4022bff9b16d6005?fccid=a8a863bdb921baff&amp;vjs=3\" id=\"jl_4022bff9b16d6005\" onclick=\"setRefineByCookie([]); return rclk(this,jobmap[1],true,1);\" onmousedown=\"return rclk(this,jobmap[1],false,1);\" rel=\"noopener nofollow\" target=\"_blank\" title=\"Python/Django Developer\">\n",
      "<b>Python</b>/Django <b>Developer</b></a>\n",
      "<span class=\"new\">new</span></h2>\n",
      "<div class=\"sjcl\">\n",
      "<div>\n",
      "<span class=\"company\">\n",
      "Fluper Limited</span>\n",
      "</div>\n",
      "<div class=\"recJobLoc\" data-rc-loc=\"Noida, Uttar Pradesh\" id=\"recJobLoc_4022bff9b16d6005\" style=\"display: none\"></div>\n",
      "<span class=\"location accessible-contrast-color-location\">Noida, Uttar Pradesh</span>\n",
      "<span class=\"remote-bullet\">•</span>\n",
      "<span class=\"remote\">Temporarily remote</span>\n",
      "</div>\n",
      "<div class=\"salarySnippet salarySnippetDemphasizeholisticSalary\">\n",
      "<span class=\"salary no-wrap\">\n",
      "<span class=\"salaryText\">\n",
      "₹2,00,000 - ₹6,00,000 a year</span>\n",
      "</span>\n",
      "</div>\n",
      "<table class=\"jobCardShelfContainer\" role=\"presentation\"><tr class=\"jobCardShelf\"><td class=\"jobCardShelfItem indeedApply\"><span class=\"jobCardShelfIcon\"></span><span class=\"iaLabel iaIconActive\">Apply securely with Indeed Resume</span></td></tr></table><div class=\"summary\">\n",
      "<ul style=\"list-style-type:circle;margin-top: 0px;margin-bottom: 0px;padding-left:20px;\">\n",
      "<li style=\"margin-bottom:0px;\">Develop back-end components to improve responsiveness and overall performance.</li>\n",
      "<li style=\"margin-bottom:0px;\">Integrate user-facing elements into applications.</li>\n",
      "<li style=\"margin-bottom:0px;\">Improve functionality of existing systems.</li>\n",
      "<li style=\"margin-bottom:0px;\">Implement security and data protection solutions.</li>\n",
      "<li style=\"margin-bottom:0px;\">Assess and prioritize feature requests.</li>\n",
      "<li>Work experience as a <b>Python</b> Developer.</li>\n",
      "</ul></div>\n",
      "<div class=\"jobsearch-SerpJobCard-footer\">\n",
      "<div class=\"jobsearch-SerpJobCard-footerActions\">\n",
      "<div class=\"result-link-bar-container\">\n",
      "<div class=\"result-link-bar\"><span class=\"date date-a11y\">7 days ago</span><div class=\"tt_set\" id=\"tt_set_1\"><div class=\"job-reaction\"><button aria-expanded=\"false\" aria-label=\"save or dislike\" class=\"job-reaction-kebab\" data-ol-has-click-handler=\"\" onclick=\"toggleKebabMenu('4022bff9b16d6005', false, event); return false;\" tabindex=\"0\"></button><span class=\"job-reaction-kebab-menu\"><button class=\"job-reaction-kebab-item job-reaction-save\" data-ol-has-click-handler=\"\" onclick=\"changeJobState('4022bff9b16d6005', 'save', 'linkbar', false, '', document.querySelector('[data-jk=&quot;4022bff9b16d6005&quot;] .job-reaction-kebab'));return false;\"><svg fill=\"none\" focusable=\"false\" height=\"24\" viewbox=\"0 0 24 24\" width=\"24\" xmlns=\"http://www.w3.org/2000/svg\"><path clip-rule=\"evenodd\" d=\"M10.5766 6.99526C10.0636 6.48227 9.57017 5.99808 9.01069 5.62604C8.46832 5.26538 7.97822 5.09021 7.5 5.09021C6.79435 5.09021 5.98045 5.27268 5.34087 5.72415C4.78259 6.11822 4.20245 6.82046 4.00092 8.2167C4.02709 10.0041 4.61435 11.2599 5.97077 12.7896C6.98048 13.9283 8.27849 15.0775 9.97941 16.5833C10.5978 17.1308 11.2695 17.7255 12 18.3839C12.7305 17.7255 13.4022 17.1308 14.0206 16.5833C15.7215 15.0775 17.0195 13.9283 18.0292 12.7896C19.3856 11.2599 19.9729 10.0041 19.9991 8.2167C19.7976 6.82046 19.2174 6.11822 18.6591 5.72415C18.0196 5.27268 17.2056 5.09021 16.5 5.09021C16.0218 5.09021 15.5317 5.26538 14.9893 5.62604C14.4298 5.99808 13.9364 6.48227 13.4234 6.99526L12 8.41864L10.5766 6.99526ZM22 8.09021C22 12.1883 19.6488 14.2711 15.2216 18.1928C14.3422 18.9718 13.3808 19.8234 12.3397 20.7777C12.1476 20.9539 11.8524 20.9539 11.6603 20.7777C10.6192 19.8234 9.65782 18.9718 8.77838 18.1928C4.35123 14.2711 2 12.1883 2 8.09021C2.5 4.09021 5.5 3.09021 7.5 3.09021C9.47994 3.09021 10.9699 4.56026 11.9698 5.55996C11.9768 5.56701 11.9838 5.57404 11.9908 5.58104L12 5.59021L12.0092 5.58104C12.0162 5.57404 12.0232 5.56701 12.0302 5.55996C13.0301 4.56026 14.5201 3.09021 16.5 3.09021C18.5 3.09021 21.5 4.09021 22 8.09021Z\" fill=\"#2d2d2d\" fill-rule=\"evenodd\"></path></svg><span class=\"job-reaction-kebab-item-text\">Save job</span></button><button class=\"job-reaction-kebab-item job-reaction-dislike\" data-ol-has-click-handler=\"\" onclick=\"dislikeJob(false, false, '4022bff9b16d6005', 'unsave', 'linkbar', false, '');\"><span class=\"job-reaction-dislike-icon\"></span><span class=\"job-reaction-kebab-item-text\">Not interested</span></button><button class=\"job-reaction-kebab-item job-reaction-report\" onclick=\"reportJob('4022bff9b16d6005');\"><span class=\"job-reaction-report-icon\"></span><span class=\"job-reaction-kebab-item-text\">Is there a problem with this job?</span></button></span></div><span class=\"result-link-bar-separator\">·</span><a class=\"sl resultLink save-job-link\" href=\"#\" id=\"sj_4022bff9b16d6005\" onclick=\"changeJobState('4022bff9b16d6005', 'save', 'linkbar', false, '', this); return false;\" title=\"Save this job to my.indeed\">Save job</a><span class=\"result-link-bar-separator\">·</span><button aria-expanded=\"false\" class=\"sl resultLink more-link\" id=\"tog_1\" onclick=\"toggleMoreLinks('4022bff9b16d6005', '1'); return false;\">More...</button></div><script>if (!window['result_4022bff9b16d6005']) {window['result_4022bff9b16d6005'] = {};}window['result_4022bff9b16d6005']['showSource'] = false; window['result_4022bff9b16d6005']['source'] = \"Indeed\"; window['result_4022bff9b16d6005']['loggedIn'] = false; window['result_4022bff9b16d6005']['showMyJobsLinks'] = false;window['result_4022bff9b16d6005']['baseMyJobsUrl'] = \"https://myjobs.indeed.com\";window['result_4022bff9b16d6005']['undoAction'] = \"unsave\";window['result_4022bff9b16d6005']['relativeJobAge'] = \"7 days ago\";window['result_4022bff9b16d6005']['jobKey'] = \"4022bff9b16d6005\"; window['result_4022bff9b16d6005']['myIndeedAvailable'] = true; window['result_4022bff9b16d6005']['showMoreActionsLink'] = window['result_4022bff9b16d6005']['showMoreActionsLink'] || true; window['result_4022bff9b16d6005']['resultNumber'] = 1; window['result_4022bff9b16d6005']['jobStateChangedToSaved'] = false; window['result_4022bff9b16d6005']['searchState'] = \"q=Python Developer&amp;l=Noida%2CUttar+Pradesh\"; window['result_4022bff9b16d6005']['basicPermaLink'] = \"https://in.indeed.com\"; window['result_4022bff9b16d6005']['saveJobFailed'] = false; window['result_4022bff9b16d6005']['removeJobFailed'] = false; window['result_4022bff9b16d6005']['requestPending'] = false; window['result_4022bff9b16d6005']['currentPage'] = \"serp\"; window['result_4022bff9b16d6005']['sponsored'] = false;window['result_4022bff9b16d6005']['showSaveForSponsored'] = false; window['result_4022bff9b16d6005']['showJobAge'] = true; window['result_4022bff9b16d6005']['showHolisticCard'] = true; window['result_4022bff9b16d6005']['showDislike'] = true; window['result_4022bff9b16d6005']['showKebab'] = true; window['result_4022bff9b16d6005']['showReport'] = true;</script></div></div>\n",
      "</div>\n",
      "</div>\n",
      "<div class=\"tab-container\">\n",
      "<div class=\"more-links-container result-tab\" id=\"tt_display_1\" style=\"display:none;\"><div class=\"more_actions\" id=\"more_1\"><ul><li><span class=\"mat\">View all <a href=\"/Fluper-Limited-jobs\">Fluper Limited jobs</a> - <a href=\"/jobs-in-Noida,-Uttar-Pradesh\">Noida jobs</a></span></li><li><span class=\"mat\">Salary Search: <a href=\"/career/python-developer/salaries/Noida--Uttar-Pradesh\" onmousedown=\"this.href = appendParamsOnce(this.href, '?campaignid=serp-more&amp;fromjk=4022bff9b16d6005&amp;from=serp-more');\">Python Developer salaries in Noida, Uttar Pradesh</a></span></li></ul></div><a class=\"close-link closeLink\" href=\"#\" onclick=\"toggleMoreLinks('4022bff9b16d6005'); return false;\" title=\"Close\"></a></div><div class=\"dya-container result-tab\"></div>\n",
      "<div class=\"tellafriend-container result-tab email_job_content\"></div>\n",
      "<div class=\"sign-in-container result-tab\"></div>\n",
      "</div>\n",
      "</div>\n"
     ]
    }
   ],
   "source": [
    "print(cards[1])"
   ]
  },
  {
   "cell_type": "code",
   "execution_count": 10,
   "metadata": {},
   "outputs": [],
   "source": [
    "# let's first prototype the model with a single record\n",
    "\n",
    "card = cards[1]"
   ]
  },
  {
   "cell_type": "code",
   "execution_count": 11,
   "metadata": {},
   "outputs": [
    {
     "data": {
      "text/plain": [
       "'https://in.indeed.com/company/Fluper-Limited/jobs/Python-Django-Developer-4022bff9b16d6005?fccid=a8a863bdb921baff&vjs=3'"
      ]
     },
     "execution_count": 11,
     "metadata": {},
     "output_type": "execute_result"
    }
   ],
   "source": [
    "atag = card.a\n",
    "\n",
    "job_url = 'https://in.indeed.com'+atag.get('href')\n",
    "job_url"
   ]
  },
  {
   "cell_type": "code",
   "execution_count": 12,
   "metadata": {},
   "outputs": [
    {
     "data": {
      "text/plain": [
       "'Python/Django Developer'"
      ]
     },
     "execution_count": 12,
     "metadata": {},
     "output_type": "execute_result"
    }
   ],
   "source": [
    "job_title = atag.get('title')\n",
    "job_title"
   ]
  },
  {
   "cell_type": "code",
   "execution_count": 13,
   "metadata": {},
   "outputs": [
    {
     "data": {
      "text/plain": [
       "'Fluper Limited'"
      ]
     },
     "execution_count": 13,
     "metadata": {},
     "output_type": "execute_result"
    }
   ],
   "source": [
    "# company_name\n",
    "company = card.find('span','company').text.strip()\n",
    "company"
   ]
  },
  {
   "cell_type": "code",
   "execution_count": 14,
   "metadata": {},
   "outputs": [
    {
     "data": {
      "text/plain": [
       "'Noida, Uttar Pradesh'"
      ]
     },
     "execution_count": 14,
     "metadata": {},
     "output_type": "execute_result"
    }
   ],
   "source": [
    "# job location\n",
    "job_location = card.find('div', 'recJobLoc').get('data-rc-loc')\n",
    "job_location"
   ]
  },
  {
   "cell_type": "code",
   "execution_count": 15,
   "metadata": {},
   "outputs": [
    {
     "data": {
      "text/plain": [
       "'Develop back-end components to improve responsiveness and overall performance. Integrate user-facing elements into applications. Improve functionality of existing systems. Implement security and data protection solutions. Assess and prioritize feature requests. Work experience as a Python Developer.'"
      ]
     },
     "execution_count": 15,
     "metadata": {},
     "output_type": "execute_result"
    }
   ],
   "source": [
    "# job_summary\n",
    "\n",
    "summary = card.find('div', 'summary').text.strip().replace('\\n', ' ')\n",
    "summary"
   ]
  },
  {
   "cell_type": "code",
   "execution_count": 16,
   "metadata": {},
   "outputs": [
    {
     "data": {
      "text/plain": [
       "'7 days ago'"
      ]
     },
     "execution_count": 16,
     "metadata": {},
     "output_type": "execute_result"
    }
   ],
   "source": [
    "# job date\n",
    "post_date = card.find('span','date').text\n",
    "today = datetime.today().strftime('%Y-%m-%d')\n",
    "\n",
    "post_date"
   ]
  },
  {
   "cell_type": "code",
   "execution_count": 17,
   "metadata": {},
   "outputs": [],
   "source": [
    "job_salary = card.find('span', 'salaryText')\n",
    "if job_salary:\n",
    "    salary = job_salary.text.strip()\n",
    "else:\n",
    "    salary = ''"
   ]
  },
  {
   "cell_type": "code",
   "execution_count": 18,
   "metadata": {},
   "outputs": [
    {
     "data": {
      "text/plain": [
       "'₹2,00,000 - ₹6,00,000 a year'"
      ]
     },
     "execution_count": 18,
     "metadata": {},
     "output_type": "execute_result"
    }
   ],
   "source": [
    "salary"
   ]
  },
  {
   "cell_type": "code",
   "execution_count": 19,
   "metadata": {},
   "outputs": [],
   "source": [
    "def get_record(card):\n",
    "    \"\"\"Extract Job Details From CARDS\"\"\"\n",
    "    \n",
    "    job_title = atag.get('title')\n",
    "    job_url = 'https://in.indeed.com'+atag.get('href')\n",
    "    company = card.find('span','company').text.strip()\n",
    "    job_location = card.find('div', 'recJobLoc').get('data-rc-loc')\n",
    "    summary = card.find('div', 'summary').text.strip().replace('\\n', ' ')\n",
    "    post_date = card.find('span','date').text\n",
    "    today = datetime.today().strftime('%Y-%m-%d')\n",
    "    try:\n",
    "        job_salary = card.find('span', 'salaryText')\n",
    "        if job_salary:\n",
    "            salary = job_salary.text.strip()\n",
    "        else:\n",
    "            salary = ''\n",
    "    except AttributeError:\n",
    "        salary = ''\n",
    "    \n",
    "        \n",
    "    record = (job_title, job_url, company , job_location , summary , post_date , today,salary)\n",
    "    return record"
   ]
  },
  {
   "cell_type": "code",
   "execution_count": 20,
   "metadata": {},
   "outputs": [],
   "source": [
    "records = []\n",
    "\n",
    "for everyCard in cards:\n",
    "    jobDetails = get_record(everyCard)\n",
    "    records.append(jobDetails)"
   ]
  },
  {
   "cell_type": "code",
   "execution_count": 21,
   "metadata": {},
   "outputs": [
    {
     "data": {
      "text/plain": [
       "15"
      ]
     },
     "execution_count": 21,
     "metadata": {},
     "output_type": "execute_result"
    }
   ],
   "source": [
    "len(records)"
   ]
  },
  {
   "cell_type": "code",
   "execution_count": 22,
   "metadata": {},
   "outputs": [
    {
     "data": {
      "text/plain": [
       "('Python/Django Developer',\n",
       " 'https://in.indeed.com/company/Fluper-Limited/jobs/Python-Django-Developer-4022bff9b16d6005?fccid=a8a863bdb921baff&vjs=3',\n",
       " 'Uni Global Tech',\n",
       " 'Noida, Uttar Pradesh',\n",
       " 'Good understanding of Object Oriented analysis and design. Strong Python Scripting Experience. Write Reusable, Testable, and Efficient Code. Implementation of security and data protection. Job Types: Full-time, Internship, Fresher. Salary: ₹8,000.00 - ₹15,000.00 per month.',\n",
       " '1 day ago',\n",
       " '2021-06-30',\n",
       " '₹8,000 - ₹15,000 a month')"
      ]
     },
     "execution_count": 22,
     "metadata": {},
     "output_type": "execute_result"
    }
   ],
   "source": [
    "records[0]"
   ]
  },
  {
   "cell_type": "code",
   "execution_count": 23,
   "metadata": {},
   "outputs": [
    {
     "data": {
      "text/plain": [
       "('Python/Django Developer',\n",
       " 'https://in.indeed.com/company/Fluper-Limited/jobs/Python-Django-Developer-4022bff9b16d6005?fccid=a8a863bdb921baff&vjs=3',\n",
       " 'Fluper Limited',\n",
       " 'Noida, Uttar Pradesh',\n",
       " 'Develop back-end components to improve responsiveness and overall performance. Integrate user-facing elements into applications. Improve functionality of existing systems. Implement security and data protection solutions. Assess and prioritize feature requests. Work experience as a Python Developer.',\n",
       " '7 days ago',\n",
       " '2021-06-30',\n",
       " '₹2,00,000 - ₹6,00,000 a year')"
      ]
     },
     "execution_count": 23,
     "metadata": {},
     "output_type": "execute_result"
    }
   ],
   "source": [
    "records[1]"
   ]
  },
  {
   "cell_type": "code",
   "execution_count": 24,
   "metadata": {},
   "outputs": [
    {
     "data": {
      "text/plain": [
       "('Python/Django Developer',\n",
       " 'https://in.indeed.com/company/Fluper-Limited/jobs/Python-Django-Developer-4022bff9b16d6005?fccid=a8a863bdb921baff&vjs=3',\n",
       " 'Shridhar life school',\n",
       " 'Noida, Uttar Pradesh',\n",
       " 'Urgent hiring for back end developer*. Should have 2- 6 years of experience in Python, Django, MySql and Mango DB. Knowledge of react java script. Knowledge of DJango rest framework. Identifying enhancement and modification that improve product quality. Basic understanding of front end development.',\n",
       " 'Just posted',\n",
       " '2021-06-30',\n",
       " '₹35,000 - ₹50,000 a month')"
      ]
     },
     "execution_count": 24,
     "metadata": {},
     "output_type": "execute_result"
    }
   ],
   "source": [
    "records[2]"
   ]
  },
  {
   "cell_type": "code",
   "execution_count": 25,
   "metadata": {},
   "outputs": [
    {
     "data": {
      "text/plain": [
       "('Python/Django Developer',\n",
       " 'https://in.indeed.com/company/Fluper-Limited/jobs/Python-Django-Developer-4022bff9b16d6005?fccid=a8a863bdb921baff&vjs=3',\n",
       " 'Techamic Solutions',\n",
       " 'Noida, Uttar Pradesh',\n",
       " 'Should have a good understanding of OOPS. Should have a good hands on developing applications in Python and DJango. Should be able to work in a team. Good understanding of Data Models. Should be good at writing efficient queries. Should be able to break down the high-level requirements into…',\n",
       " '9 days ago',\n",
       " '2021-06-30',\n",
       " '₹4,00,000 - ₹8,00,000 a year')"
      ]
     },
     "execution_count": 25,
     "metadata": {},
     "output_type": "execute_result"
    }
   ],
   "source": [
    "records[3]"
   ]
  },
  {
   "cell_type": "code",
   "execution_count": 53,
   "metadata": {},
   "outputs": [],
   "source": [
    "# Getting The Next Page\n",
    "while True:\n",
    "    try:\n",
    "        url = 'https://in.indeed.com/'+soup.find('a',{'aria-label':'Next'}).get('href')\n",
    "    except AttributeError:\n",
    "        break\n",
    "    \n",
    "    \n",
    "    response = requests.get(url)\n",
    "    soup = BeautifulSoup(response.text,'html.parser')\n",
    "    cards = soup.find_all('div', 'jobsearch-SerpJobCard')\n",
    "    \n",
    "    for everyCard in cards:\n",
    "        jobDetails = get_record(everyCard)\n",
    "        records.append(jobDetails)"
   ]
  },
  {
   "cell_type": "code",
   "execution_count": 54,
   "metadata": {},
   "outputs": [
    {
     "data": {
      "text/plain": [
       "121"
      ]
     },
     "execution_count": 54,
     "metadata": {},
     "output_type": "execute_result"
    }
   ],
   "source": [
    "len(records)"
   ]
  },
  {
   "cell_type": "code",
   "execution_count": 28,
   "metadata": {},
   "outputs": [],
   "source": [
    "# Putting It All Together\n",
    "\n",
    "import csv\n",
    "from datetime import datetime\n",
    "import requests\n",
    "from bs4 import BeautifulSoup\n",
    "\n",
    "def get_url(position,location):\n",
    "    position = position.replace(' ','+')\n",
    "    location = location.replace(' ','+')\n",
    "    template = 'https://in.indeed.com/jobs?q={}&l={}'\n",
    "    url = template.format(position,location)\n",
    "    return url\n",
    "\n",
    "\n",
    "def get_record(card):\n",
    "    \"\"\"Extract Job Details From CARDS\"\"\"\n",
    "    \n",
    "    job_title = atag.get('title')\n",
    "    job_url = 'https://in.indeed.com'+atag.get('href')\n",
    "    company = card.find('span','company').text.strip()\n",
    "    job_location = card.find('div', 'recJobLoc').get('data-rc-loc')\n",
    "    summary = card.find('div', 'summary').text.strip().replace('\\n', ' ')\n",
    "    post_date = card.find('span','date').text\n",
    "    today = datetime.today().strftime('%Y-%m-%d')\n",
    "    try:\n",
    "        job_salary = card.find('span', 'salaryText')\n",
    "        if job_salary:\n",
    "            salary = job_salary.text.strip()\n",
    "        else:\n",
    "            salary = ''\n",
    "    except AttributeError:\n",
    "        salary = ''\n",
    "    \n",
    "        \n",
    "    record = (job_title, job_url, company , job_location , summary , post_date , today,salary)\n",
    "    return record\n",
    "\n",
    "\n",
    "def main(position,location):\n",
    "    records = []\n",
    "    url = get_url(position,location)\n",
    "    \n",
    "    while True:\n",
    "        response = requests.get(url)\n",
    "        soup = BeautifulSoup(response.text,'html.parser')\n",
    "        cards = soup.find_all('div', 'jobsearch-SerpJobCard')\n",
    "        \n",
    "        for everyCard in cards:\n",
    "            jobDetails = get_record(everyCard)\n",
    "            records.append(jobDetails)\n",
    "            \n",
    "        try:\n",
    "            url = 'https://in.indeed.com/'+soup.find('a',{'aria-label':'Next'}).get('href')\n",
    "        except AttributeError:\n",
    "            break\n",
    "            \n",
    "        \n",
    "        # Save the job information in a csv file\n",
    "        \n",
    "        with open('jobResultsNew.csv','w',newline='',encoding='utf-8') as f:\n",
    "            writer = csv.writer(f)\n",
    "            writer.writerow(['JobTitle','JobUrl','Company','Location','Summary','PostDate','ExtractDate','Salary'])\n",
    "            writer.writerows(records)\n",
    "            "
   ]
  },
  {
   "cell_type": "code",
   "execution_count": 29,
   "metadata": {},
   "outputs": [],
   "source": [
    "#main('Python Developer','Noida,Uttar Pradesh')"
   ]
  },
  {
   "cell_type": "code",
   "execution_count": 30,
   "metadata": {},
   "outputs": [],
   "source": [
    "#main('Java','Noida,Uttar Pradesh')"
   ]
  }
 ],
 "metadata": {
  "kernelspec": {
   "display_name": "Python 3",
   "language": "python",
   "name": "python3"
  },
  "language_info": {
   "codemirror_mode": {
    "name": "ipython",
    "version": 3
   },
   "file_extension": ".py",
   "mimetype": "text/x-python",
   "name": "python",
   "nbconvert_exporter": "python",
   "pygments_lexer": "ipython3",
   "version": "3.8.3"
  }
 },
 "nbformat": 4,
 "nbformat_minor": 4
}
